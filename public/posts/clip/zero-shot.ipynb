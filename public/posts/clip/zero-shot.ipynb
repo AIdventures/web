{
 "cells": [
  {
   "cell_type": "code",
   "execution_count": 1,
   "metadata": {},
   "outputs": [],
   "source": [
    "import torch\n",
    "import clip\n",
    "from PIL import Image"
   ]
  },
  {
   "cell_type": "code",
   "execution_count": 2,
   "metadata": {},
   "outputs": [
    {
     "name": "stderr",
     "output_type": "stream",
     "text": [
      "100%|███████████████████████████████████████| 338M/338M [00:05<00:00, 59.9MiB/s]\n"
     ]
    }
   ],
   "source": [
    "device = \"cuda\" if torch.cuda.is_available() else \"cpu\"\n",
    "model, preprocess = clip.load(\"ViT-B/32\", device=device)"
   ]
  },
  {
   "cell_type": "code",
   "execution_count": 4,
   "metadata": {},
   "outputs": [],
   "source": [
    "# Load the image to be encoded\n",
    "image = preprocess(Image.open(\"cat.jpg\")).unsqueeze(0).to(device)\n",
    "# Load the text prompts to be encoded\n",
    "class_texts = [\"a diagram\", \"a dog\", \"a cat\"]\n",
    "text = clip.tokenize(class_texts).to(device)"
   ]
  },
  {
   "cell_type": "code",
   "execution_count": 5,
   "metadata": {},
   "outputs": [],
   "source": [
    "with torch.no_grad():\n",
    "    # Encode the image/s and text/s\n",
    "    image_features = model.encode_image(image)\n",
    "    text_features = model.encode_text(text)"
   ]
  },
  {
   "cell_type": "code",
   "execution_count": 6,
   "metadata": {},
   "outputs": [],
   "source": [
    "# Pick the top 3 most similar labels for the image\n",
    "image_features /= image_features.norm(dim=-1, keepdim=True)\n",
    "text_features /= text_features.norm(dim=-1, keepdim=True)\n",
    "similarities = (100.0 * image_features @ text_features.T).softmax(dim=-1)\n",
    "probabilities, indices = similarities[0].topk(3)"
   ]
  },
  {
   "cell_type": "code",
   "execution_count": 8,
   "metadata": {},
   "outputs": [
    {
     "name": "stdout",
     "output_type": "stream",
     "text": [
      "\n",
      "Top predictions:\n",
      "\n",
      "a cat: 99.41%\n",
      "a dog: 0.49%\n",
      "a diagram: 0.09%\n"
     ]
    }
   ],
   "source": [
    "# Print the result\n",
    "print(\"\\nTop predictions:\\n\")\n",
    "for probability, index in zip(probabilities, indices):\n",
    "    print(f\"{class_texts[index]}: {100 * probability.item():.2f}%\")"
   ]
  }
 ],
 "metadata": {
  "kernelspec": {
   "display_name": "llms",
   "language": "python",
   "name": "python3"
  },
  "language_info": {
   "codemirror_mode": {
    "name": "ipython",
    "version": 3
   },
   "file_extension": ".py",
   "mimetype": "text/x-python",
   "name": "python",
   "nbconvert_exporter": "python",
   "pygments_lexer": "ipython3",
   "version": "3.11.8"
  }
 },
 "nbformat": 4,
 "nbformat_minor": 2
}
