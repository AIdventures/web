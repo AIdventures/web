{
 "cells": [
  {
   "cell_type": "code",
   "execution_count": 1,
   "id": "c041233b-4fc0-45e6-9a28-41707455831d",
   "metadata": {},
   "outputs": [],
   "source": [
    "import torch\n",
    "from transformers import DistilBertTokenizer, DistilBertModel\n",
    "from sklearn.metrics.pairwise import cosine_similarity"
   ]
  },
  {
   "cell_type": "code",
   "execution_count": 2,
   "id": "41dcf172-cd0f-4149-aa12-0e932d7bcb24",
   "metadata": {},
   "outputs": [],
   "source": [
    "# Load DistilBERT tokenizer and model\n",
    "tokenizer = DistilBertTokenizer.from_pretrained('distilbert-base-uncased')\n",
    "model = DistilBertModel.from_pretrained('distilbert-base-uncased')"
   ]
  },
  {
   "cell_type": "code",
   "execution_count": 75,
   "id": "02cf3f11-4b2f-422c-b928-333eb2f20b00",
   "metadata": {},
   "outputs": [],
   "source": [
    "# Input texts\n",
    "text1 = \"Hello, how are you?\"\n",
    "#text1 = \"I think pizza is best\"\n",
    "\n",
    "text2 = \"Hey there, how's it going?\"\n",
    "#text2 = \"I like pizza every day, and you?\""
   ]
  },
  {
   "cell_type": "code",
   "execution_count": 76,
   "id": "4f08a1da-1d41-43e7-8ef7-15dd615fe6e9",
   "metadata": {},
   "outputs": [],
   "source": [
    "# Tokenize input texts\n",
    "x = tokenizer([text1, text2], return_tensors='pt', padding=True, truncation=True)"
   ]
  },
  {
   "cell_type": "code",
   "execution_count": 77,
   "id": "b875724d-ff5f-4807-9a81-016ebd92e02f",
   "metadata": {},
   "outputs": [],
   "source": [
    "# Forward pass through DistilBERT\n",
    "with torch.no_grad():\n",
    "    outputs = model(**x)"
   ]
  },
  {
   "cell_type": "code",
   "execution_count": 78,
   "id": "0e001402-a3cd-4f0f-bced-438d4c6b7d43",
   "metadata": {},
   "outputs": [
    {
     "data": {
      "text/plain": [
       "torch.Size([2, 11, 768])"
      ]
     },
     "execution_count": 78,
     "metadata": {},
     "output_type": "execute_result"
    }
   ],
   "source": [
    "outputs.last_hidden_state.shape"
   ]
  },
  {
   "cell_type": "code",
   "execution_count": 79,
   "id": "f2a9744f-3959-42c4-8f6d-e4026e070915",
   "metadata": {},
   "outputs": [],
   "source": [
    "# Extract embeddings for each input\n",
    "embeddings1 = outputs.last_hidden_state[0]  # torch.Size([11, 768])\n",
    "embeddings2 = outputs.last_hidden_state[1]  # torch.Size([11, 768])"
   ]
  },
  {
   "cell_type": "markdown",
   "id": "670f3e7b-ce87-44d2-950b-748ed23eb7ce",
   "metadata": {},
   "source": [
    "---"
   ]
  },
  {
   "cell_type": "code",
   "execution_count": 80,
   "id": "33943f71-d931-4c47-9e27-675a0d03cb86",
   "metadata": {},
   "outputs": [],
   "source": [
    "# Define cosine embedding loss\n",
    "cosine_loss = torch.nn.CosineEmbeddingLoss()"
   ]
  },
  {
   "cell_type": "code",
   "execution_count": 81,
   "id": "2a0fe146-51c9-4155-8021-90e22fcfbcf4",
   "metadata": {},
   "outputs": [],
   "source": [
    "# Define targets (similarity scores)\n",
    "target = torch.tensor([1.0])"
   ]
  },
  {
   "cell_type": "code",
   "execution_count": 82,
   "id": "5099c230-d827-4b3a-82ef-8abcfc08373e",
   "metadata": {},
   "outputs": [
    {
     "name": "stdout",
     "output_type": "stream",
     "text": [
      "Cosine Embedding Loss: 0.4874659776687622\n"
     ]
    }
   ],
   "source": [
    "# Compute cosine embedding loss\n",
    "loss = cosine_loss(embeddings1, embeddings2, target)\n",
    "\n",
    "print(\"Cosine Embedding Loss:\", loss.item())"
   ]
  }
 ],
 "metadata": {
  "kernelspec": {
   "display_name": "Python 3 (ipykernel)",
   "language": "python",
   "name": "python3"
  },
  "language_info": {
   "codemirror_mode": {
    "name": "ipython",
    "version": 3
   },
   "file_extension": ".py",
   "mimetype": "text/x-python",
   "name": "python",
   "nbconvert_exporter": "python",
   "pygments_lexer": "ipython3",
   "version": "3.11.5"
  }
 },
 "nbformat": 4,
 "nbformat_minor": 5
}
